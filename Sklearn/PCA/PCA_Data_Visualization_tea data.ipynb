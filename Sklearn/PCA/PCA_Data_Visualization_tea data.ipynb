{
 "cells": [
  {
   "cell_type": "markdown",
   "metadata": {},
   "source": [
    "<h1 align=\"center\"> Principle Component Analysis (PCA) for Data Visualization </h1>"
   ]
  },
  {
   "cell_type": "code",
   "execution_count": 1,
   "metadata": {},
   "outputs": [],
   "source": [
    "import pandas as pd \n",
    "import numpy as np\n",
    "import matplotlib.pyplot as plt\n",
    "from sklearn.decomposition import PCA\n",
    "from sklearn.preprocessing import StandardScaler\n",
    "%matplotlib inline"
   ]
  },
  {
   "cell_type": "markdown",
   "metadata": {},
   "source": [
    "## Load Iris Dataset"
   ]
  },
  {
   "cell_type": "code",
   "execution_count": 40,
   "metadata": {},
   "outputs": [],
   "source": [
    "#url = \"https://archive.ics.uci.edu/ml/machine-learning-databases/iris/iris.data\"\n",
    "df = pd.read_csv (r'/Users/sandramartinez/Downloads/tea project/mzmL/teaft_target.csv')\n",
    "\n"
   ]
  },
  {
   "cell_type": "code",
   "execution_count": 39,
   "metadata": {},
   "outputs": [],
   "source": [
    "# loading dataset into Pandas DataFrame\n",
    "df = pd.read_csv(url\n",
    "                 , names=['sepal length','sepal width','petal length','petal width','target'])"
   ]
  },
  {
   "cell_type": "code",
   "execution_count": 41,
   "metadata": {},
   "outputs": [
    {
     "data": {
      "text/html": [
       "<div>\n",
       "<style scoped>\n",
       "    .dataframe tbody tr th:only-of-type {\n",
       "        vertical-align: middle;\n",
       "    }\n",
       "\n",
       "    .dataframe tbody tr th {\n",
       "        vertical-align: top;\n",
       "    }\n",
       "\n",
       "    .dataframe thead th {\n",
       "        text-align: right;\n",
       "    }\n",
       "</style>\n",
       "<table border=\"1\" class=\"dataframe\">\n",
       "  <thead>\n",
       "    <tr style=\"text-align: right;\">\n",
       "      <th></th>\n",
       "      <th>50.0327800837328</th>\n",
       "      <th>50.0836648622274</th>\n",
       "      <th>50.1680483554447</th>\n",
       "      <th>50.2657806931536</th>\n",
       "      <th>50.3276293058299</th>\n",
       "      <th>50.3520660634204</th>\n",
       "      <th>50.3701867816324</th>\n",
       "      <th>50.4778453184529</th>\n",
       "      <th>50.5537111069873</th>\n",
       "      <th>50.6243588896165</th>\n",
       "      <th>...</th>\n",
       "      <th>486.449650997659</th>\n",
       "      <th>488.372517041164</th>\n",
       "      <th>490.800283694829</th>\n",
       "      <th>491.757802641516</th>\n",
       "      <th>492.709665339526</th>\n",
       "      <th>493.340650512175</th>\n",
       "      <th>493.872878292723</th>\n",
       "      <th>495.190608094881</th>\n",
       "      <th>498.89059607775</th>\n",
       "      <th>sample</th>\n",
       "    </tr>\n",
       "  </thead>\n",
       "  <tbody>\n",
       "    <tr>\n",
       "      <th>0</th>\n",
       "      <td>0.000000</td>\n",
       "      <td>0.000000</td>\n",
       "      <td>0.000000</td>\n",
       "      <td>0.0</td>\n",
       "      <td>0.0</td>\n",
       "      <td>0.000000</td>\n",
       "      <td>0.00000</td>\n",
       "      <td>0.0</td>\n",
       "      <td>0.0</td>\n",
       "      <td>0.003924</td>\n",
       "      <td>...</td>\n",
       "      <td>0.0</td>\n",
       "      <td>0.0</td>\n",
       "      <td>0.0</td>\n",
       "      <td>0.0</td>\n",
       "      <td>0.0</td>\n",
       "      <td>0.0</td>\n",
       "      <td>0.0</td>\n",
       "      <td>0.0</td>\n",
       "      <td>0.0</td>\n",
       "      <td>anxy</td>\n",
       "    </tr>\n",
       "    <tr>\n",
       "      <th>1</th>\n",
       "      <td>0.000000</td>\n",
       "      <td>0.004376</td>\n",
       "      <td>0.004767</td>\n",
       "      <td>0.0</td>\n",
       "      <td>0.0</td>\n",
       "      <td>0.003927</td>\n",
       "      <td>0.00428</td>\n",
       "      <td>0.0</td>\n",
       "      <td>0.0</td>\n",
       "      <td>0.000000</td>\n",
       "      <td>...</td>\n",
       "      <td>0.0</td>\n",
       "      <td>0.0</td>\n",
       "      <td>0.0</td>\n",
       "      <td>0.0</td>\n",
       "      <td>0.0</td>\n",
       "      <td>0.0</td>\n",
       "      <td>0.0</td>\n",
       "      <td>0.0</td>\n",
       "      <td>0.0</td>\n",
       "      <td>anxy</td>\n",
       "    </tr>\n",
       "    <tr>\n",
       "      <th>2</th>\n",
       "      <td>0.004258</td>\n",
       "      <td>0.004182</td>\n",
       "      <td>0.004550</td>\n",
       "      <td>0.0</td>\n",
       "      <td>0.0</td>\n",
       "      <td>0.000000</td>\n",
       "      <td>0.00000</td>\n",
       "      <td>0.0</td>\n",
       "      <td>0.0</td>\n",
       "      <td>0.000000</td>\n",
       "      <td>...</td>\n",
       "      <td>0.0</td>\n",
       "      <td>0.0</td>\n",
       "      <td>0.0</td>\n",
       "      <td>0.0</td>\n",
       "      <td>0.0</td>\n",
       "      <td>0.0</td>\n",
       "      <td>0.0</td>\n",
       "      <td>0.0</td>\n",
       "      <td>0.0</td>\n",
       "      <td>anxy</td>\n",
       "    </tr>\n",
       "    <tr>\n",
       "      <th>3</th>\n",
       "      <td>0.000000</td>\n",
       "      <td>0.000000</td>\n",
       "      <td>0.000000</td>\n",
       "      <td>0.0</td>\n",
       "      <td>0.0</td>\n",
       "      <td>0.000000</td>\n",
       "      <td>0.00000</td>\n",
       "      <td>0.0</td>\n",
       "      <td>0.0</td>\n",
       "      <td>0.000000</td>\n",
       "      <td>...</td>\n",
       "      <td>0.0</td>\n",
       "      <td>0.0</td>\n",
       "      <td>0.0</td>\n",
       "      <td>0.0</td>\n",
       "      <td>0.0</td>\n",
       "      <td>0.0</td>\n",
       "      <td>0.0</td>\n",
       "      <td>0.0</td>\n",
       "      <td>0.0</td>\n",
       "      <td>anxy</td>\n",
       "    </tr>\n",
       "    <tr>\n",
       "      <th>4</th>\n",
       "      <td>0.000000</td>\n",
       "      <td>0.000000</td>\n",
       "      <td>0.000000</td>\n",
       "      <td>0.0</td>\n",
       "      <td>0.0</td>\n",
       "      <td>0.000000</td>\n",
       "      <td>0.00000</td>\n",
       "      <td>0.0</td>\n",
       "      <td>0.0</td>\n",
       "      <td>0.000000</td>\n",
       "      <td>...</td>\n",
       "      <td>0.0</td>\n",
       "      <td>0.0</td>\n",
       "      <td>0.0</td>\n",
       "      <td>0.0</td>\n",
       "      <td>0.0</td>\n",
       "      <td>0.0</td>\n",
       "      <td>0.0</td>\n",
       "      <td>0.0</td>\n",
       "      <td>0.0</td>\n",
       "      <td>anxyha</td>\n",
       "    </tr>\n",
       "  </tbody>\n",
       "</table>\n",
       "<p>5 rows × 1649 columns</p>\n",
       "</div>"
      ],
      "text/plain": [
       "   50.0327800837328  50.0836648622274  50.1680483554447  50.2657806931536  \\\n",
       "0          0.000000          0.000000          0.000000               0.0   \n",
       "1          0.000000          0.004376          0.004767               0.0   \n",
       "2          0.004258          0.004182          0.004550               0.0   \n",
       "3          0.000000          0.000000          0.000000               0.0   \n",
       "4          0.000000          0.000000          0.000000               0.0   \n",
       "\n",
       "   50.3276293058299  50.3520660634204  50.3701867816324  50.4778453184529  \\\n",
       "0               0.0          0.000000           0.00000               0.0   \n",
       "1               0.0          0.003927           0.00428               0.0   \n",
       "2               0.0          0.000000           0.00000               0.0   \n",
       "3               0.0          0.000000           0.00000               0.0   \n",
       "4               0.0          0.000000           0.00000               0.0   \n",
       "\n",
       "   50.5537111069873  50.6243588896165  ...  486.449650997659  \\\n",
       "0               0.0          0.003924  ...               0.0   \n",
       "1               0.0          0.000000  ...               0.0   \n",
       "2               0.0          0.000000  ...               0.0   \n",
       "3               0.0          0.000000  ...               0.0   \n",
       "4               0.0          0.000000  ...               0.0   \n",
       "\n",
       "   488.372517041164  490.800283694829  491.757802641516  492.709665339526  \\\n",
       "0               0.0               0.0               0.0               0.0   \n",
       "1               0.0               0.0               0.0               0.0   \n",
       "2               0.0               0.0               0.0               0.0   \n",
       "3               0.0               0.0               0.0               0.0   \n",
       "4               0.0               0.0               0.0               0.0   \n",
       "\n",
       "   493.340650512175  493.872878292723  495.190608094881  498.89059607775  \\\n",
       "0               0.0               0.0               0.0              0.0   \n",
       "1               0.0               0.0               0.0              0.0   \n",
       "2               0.0               0.0               0.0              0.0   \n",
       "3               0.0               0.0               0.0              0.0   \n",
       "4               0.0               0.0               0.0              0.0   \n",
       "\n",
       "   sample  \n",
       "0    anxy  \n",
       "1    anxy  \n",
       "2    anxy  \n",
       "3    anxy  \n",
       "4  anxyha  \n",
       "\n",
       "[5 rows x 1649 columns]"
      ]
     },
     "execution_count": 41,
     "metadata": {},
     "output_type": "execute_result"
    }
   ],
   "source": [
    "\n",
    "del df['Unnamed: 0']\n",
    "df.head()"
   ]
  },
  {
   "cell_type": "code",
   "execution_count": 29,
   "metadata": {},
   "outputs": [],
   "source": [
    "del df['sample']\n"
   ]
  },
  {
   "cell_type": "markdown",
   "metadata": {},
   "source": [
    "## Standardize the Data"
   ]
  },
  {
   "cell_type": "markdown",
   "metadata": {},
   "source": [
    "Since PCA yields a feature subspace that maximizes the variance along the axes, it makes sense to standardize the data, especially, if it was measured on different scales. Although, all features in the Iris dataset were measured in centimeters, let us continue with the transformation of the data onto unit scale (mean=0 and variance=1), which is a requirement for the optimal performance of many machine learning algorithms."
   ]
  },
  {
   "cell_type": "code",
   "execution_count": 30,
   "metadata": {},
   "outputs": [],
   "source": [
    "x = df.values"
   ]
  },
  {
   "cell_type": "code",
   "execution_count": 27,
   "metadata": {},
   "outputs": [],
   "source": [
    "y = df.loc[:,['sample']].values"
   ]
  },
  {
   "cell_type": "code",
   "execution_count": 31,
   "metadata": {},
   "outputs": [],
   "source": [
    "x = StandardScaler().fit_transform(x)"
   ]
  },
  {
   "cell_type": "code",
   "execution_count": 32,
   "metadata": {},
   "outputs": [
    {
     "data": {
      "text/html": [
       "<div>\n",
       "<style scoped>\n",
       "    .dataframe tbody tr th:only-of-type {\n",
       "        vertical-align: middle;\n",
       "    }\n",
       "\n",
       "    .dataframe tbody tr th {\n",
       "        vertical-align: top;\n",
       "    }\n",
       "\n",
       "    .dataframe thead th {\n",
       "        text-align: right;\n",
       "    }\n",
       "</style>\n",
       "<table border=\"1\" class=\"dataframe\">\n",
       "  <thead>\n",
       "    <tr style=\"text-align: right;\">\n",
       "      <th></th>\n",
       "      <th>0</th>\n",
       "      <th>1</th>\n",
       "      <th>2</th>\n",
       "      <th>3</th>\n",
       "      <th>4</th>\n",
       "      <th>5</th>\n",
       "      <th>6</th>\n",
       "      <th>7</th>\n",
       "      <th>8</th>\n",
       "      <th>9</th>\n",
       "      <th>...</th>\n",
       "      <th>1638</th>\n",
       "      <th>1639</th>\n",
       "      <th>1640</th>\n",
       "      <th>1641</th>\n",
       "      <th>1642</th>\n",
       "      <th>1643</th>\n",
       "      <th>1644</th>\n",
       "      <th>1645</th>\n",
       "      <th>1646</th>\n",
       "      <th>1647</th>\n",
       "    </tr>\n",
       "  </thead>\n",
       "  <tbody>\n",
       "    <tr>\n",
       "      <th>0</th>\n",
       "      <td>-0.324367</td>\n",
       "      <td>-0.378759</td>\n",
       "      <td>-0.442186</td>\n",
       "      <td>-0.266022</td>\n",
       "      <td>-0.185695</td>\n",
       "      <td>-0.185695</td>\n",
       "      <td>-0.375333</td>\n",
       "      <td>-0.185695</td>\n",
       "      <td>-0.265472</td>\n",
       "      <td>1.472996</td>\n",
       "      <td>...</td>\n",
       "      <td>-0.185695</td>\n",
       "      <td>-0.247737</td>\n",
       "      <td>-0.185695</td>\n",
       "      <td>-0.185695</td>\n",
       "      <td>-0.185695</td>\n",
       "      <td>-0.267132</td>\n",
       "      <td>-0.185695</td>\n",
       "      <td>-0.185695</td>\n",
       "      <td>-0.185695</td>\n",
       "      <td>-0.420587</td>\n",
       "    </tr>\n",
       "    <tr>\n",
       "      <th>1</th>\n",
       "      <td>-0.324367</td>\n",
       "      <td>3.054613</td>\n",
       "      <td>2.547766</td>\n",
       "      <td>-0.266022</td>\n",
       "      <td>-0.185695</td>\n",
       "      <td>5.385165</td>\n",
       "      <td>2.298313</td>\n",
       "      <td>-0.185695</td>\n",
       "      <td>-0.265472</td>\n",
       "      <td>-0.235676</td>\n",
       "      <td>...</td>\n",
       "      <td>-0.185695</td>\n",
       "      <td>-0.247737</td>\n",
       "      <td>-0.185695</td>\n",
       "      <td>-0.185695</td>\n",
       "      <td>-0.185695</td>\n",
       "      <td>-0.267132</td>\n",
       "      <td>-0.185695</td>\n",
       "      <td>-0.185695</td>\n",
       "      <td>-0.185695</td>\n",
       "      <td>-0.420587</td>\n",
       "    </tr>\n",
       "    <tr>\n",
       "      <th>2</th>\n",
       "      <td>3.701164</td>\n",
       "      <td>2.902513</td>\n",
       "      <td>2.412088</td>\n",
       "      <td>-0.266022</td>\n",
       "      <td>-0.185695</td>\n",
       "      <td>-0.185695</td>\n",
       "      <td>-0.375333</td>\n",
       "      <td>-0.185695</td>\n",
       "      <td>-0.265472</td>\n",
       "      <td>-0.235676</td>\n",
       "      <td>...</td>\n",
       "      <td>-0.185695</td>\n",
       "      <td>-0.247737</td>\n",
       "      <td>-0.185695</td>\n",
       "      <td>-0.185695</td>\n",
       "      <td>-0.185695</td>\n",
       "      <td>-0.267132</td>\n",
       "      <td>-0.185695</td>\n",
       "      <td>-0.185695</td>\n",
       "      <td>-0.185695</td>\n",
       "      <td>-0.420587</td>\n",
       "    </tr>\n",
       "    <tr>\n",
       "      <th>3</th>\n",
       "      <td>-0.324367</td>\n",
       "      <td>-0.378759</td>\n",
       "      <td>-0.442186</td>\n",
       "      <td>-0.266022</td>\n",
       "      <td>-0.185695</td>\n",
       "      <td>-0.185695</td>\n",
       "      <td>-0.375333</td>\n",
       "      <td>-0.185695</td>\n",
       "      <td>-0.265472</td>\n",
       "      <td>-0.235676</td>\n",
       "      <td>...</td>\n",
       "      <td>-0.185695</td>\n",
       "      <td>-0.247737</td>\n",
       "      <td>-0.185695</td>\n",
       "      <td>-0.185695</td>\n",
       "      <td>-0.185695</td>\n",
       "      <td>-0.267132</td>\n",
       "      <td>-0.185695</td>\n",
       "      <td>-0.185695</td>\n",
       "      <td>-0.185695</td>\n",
       "      <td>-0.420587</td>\n",
       "    </tr>\n",
       "    <tr>\n",
       "      <th>4</th>\n",
       "      <td>-0.324367</td>\n",
       "      <td>-0.378759</td>\n",
       "      <td>-0.442186</td>\n",
       "      <td>-0.266022</td>\n",
       "      <td>-0.185695</td>\n",
       "      <td>-0.185695</td>\n",
       "      <td>-0.375333</td>\n",
       "      <td>-0.185695</td>\n",
       "      <td>-0.265472</td>\n",
       "      <td>-0.235676</td>\n",
       "      <td>...</td>\n",
       "      <td>-0.185695</td>\n",
       "      <td>-0.247737</td>\n",
       "      <td>-0.185695</td>\n",
       "      <td>-0.185695</td>\n",
       "      <td>-0.185695</td>\n",
       "      <td>-0.267132</td>\n",
       "      <td>-0.185695</td>\n",
       "      <td>-0.185695</td>\n",
       "      <td>-0.185695</td>\n",
       "      <td>-0.420587</td>\n",
       "    </tr>\n",
       "  </tbody>\n",
       "</table>\n",
       "<p>5 rows × 1648 columns</p>\n",
       "</div>"
      ],
      "text/plain": [
       "       0         1         2         3         4         5         6     \\\n",
       "0 -0.324367 -0.378759 -0.442186 -0.266022 -0.185695 -0.185695 -0.375333   \n",
       "1 -0.324367  3.054613  2.547766 -0.266022 -0.185695  5.385165  2.298313   \n",
       "2  3.701164  2.902513  2.412088 -0.266022 -0.185695 -0.185695 -0.375333   \n",
       "3 -0.324367 -0.378759 -0.442186 -0.266022 -0.185695 -0.185695 -0.375333   \n",
       "4 -0.324367 -0.378759 -0.442186 -0.266022 -0.185695 -0.185695 -0.375333   \n",
       "\n",
       "       7         8         9     ...      1638      1639      1640      1641  \\\n",
       "0 -0.185695 -0.265472  1.472996  ... -0.185695 -0.247737 -0.185695 -0.185695   \n",
       "1 -0.185695 -0.265472 -0.235676  ... -0.185695 -0.247737 -0.185695 -0.185695   \n",
       "2 -0.185695 -0.265472 -0.235676  ... -0.185695 -0.247737 -0.185695 -0.185695   \n",
       "3 -0.185695 -0.265472 -0.235676  ... -0.185695 -0.247737 -0.185695 -0.185695   \n",
       "4 -0.185695 -0.265472 -0.235676  ... -0.185695 -0.247737 -0.185695 -0.185695   \n",
       "\n",
       "       1642      1643      1644      1645      1646      1647  \n",
       "0 -0.185695 -0.267132 -0.185695 -0.185695 -0.185695 -0.420587  \n",
       "1 -0.185695 -0.267132 -0.185695 -0.185695 -0.185695 -0.420587  \n",
       "2 -0.185695 -0.267132 -0.185695 -0.185695 -0.185695 -0.420587  \n",
       "3 -0.185695 -0.267132 -0.185695 -0.185695 -0.185695 -0.420587  \n",
       "4 -0.185695 -0.267132 -0.185695 -0.185695 -0.185695 -0.420587  \n",
       "\n",
       "[5 rows x 1648 columns]"
      ]
     },
     "execution_count": 32,
     "metadata": {},
     "output_type": "execute_result"
    }
   ],
   "source": [
    "pd.DataFrame(data = x).head()"
   ]
  },
  {
   "cell_type": "markdown",
   "metadata": {},
   "source": [
    "## PCA Projection to 2D"
   ]
  },
  {
   "cell_type": "code",
   "execution_count": 33,
   "metadata": {},
   "outputs": [],
   "source": [
    "pca = PCA(n_components=2)"
   ]
  },
  {
   "cell_type": "code",
   "execution_count": 34,
   "metadata": {},
   "outputs": [],
   "source": [
    "principalComponents = pca.fit_transform(x)"
   ]
  },
  {
   "cell_type": "code",
   "execution_count": 35,
   "metadata": {},
   "outputs": [],
   "source": [
    "principalDf = pd.DataFrame(data = principalComponents\n",
    "             , columns = ['principal component 1', 'principal component 2'])"
   ]
  },
  {
   "cell_type": "code",
   "execution_count": 36,
   "metadata": {},
   "outputs": [
    {
     "data": {
      "text/html": [
       "<div>\n",
       "<style scoped>\n",
       "    .dataframe tbody tr th:only-of-type {\n",
       "        vertical-align: middle;\n",
       "    }\n",
       "\n",
       "    .dataframe tbody tr th {\n",
       "        vertical-align: top;\n",
       "    }\n",
       "\n",
       "    .dataframe thead th {\n",
       "        text-align: right;\n",
       "    }\n",
       "</style>\n",
       "<table border=\"1\" class=\"dataframe\">\n",
       "  <thead>\n",
       "    <tr style=\"text-align: right;\">\n",
       "      <th></th>\n",
       "      <th>principal component 1</th>\n",
       "      <th>principal component 2</th>\n",
       "    </tr>\n",
       "  </thead>\n",
       "  <tbody>\n",
       "    <tr>\n",
       "      <th>0</th>\n",
       "      <td>-14.024459</td>\n",
       "      <td>-8.461937</td>\n",
       "    </tr>\n",
       "    <tr>\n",
       "      <th>1</th>\n",
       "      <td>-17.259015</td>\n",
       "      <td>-8.812380</td>\n",
       "    </tr>\n",
       "    <tr>\n",
       "      <th>2</th>\n",
       "      <td>-20.136166</td>\n",
       "      <td>-10.279133</td>\n",
       "    </tr>\n",
       "    <tr>\n",
       "      <th>3</th>\n",
       "      <td>-14.514629</td>\n",
       "      <td>-7.793178</td>\n",
       "    </tr>\n",
       "    <tr>\n",
       "      <th>4</th>\n",
       "      <td>17.843881</td>\n",
       "      <td>-5.398950</td>\n",
       "    </tr>\n",
       "  </tbody>\n",
       "</table>\n",
       "</div>"
      ],
      "text/plain": [
       "   principal component 1  principal component 2\n",
       "0             -14.024459              -8.461937\n",
       "1             -17.259015              -8.812380\n",
       "2             -20.136166             -10.279133\n",
       "3             -14.514629              -7.793178\n",
       "4              17.843881              -5.398950"
      ]
     },
     "execution_count": 36,
     "metadata": {},
     "output_type": "execute_result"
    }
   ],
   "source": [
    "principalDf.head(5)"
   ]
  },
  {
   "cell_type": "code",
   "execution_count": 42,
   "metadata": {},
   "outputs": [
    {
     "data": {
      "text/html": [
       "<div>\n",
       "<style scoped>\n",
       "    .dataframe tbody tr th:only-of-type {\n",
       "        vertical-align: middle;\n",
       "    }\n",
       "\n",
       "    .dataframe tbody tr th {\n",
       "        vertical-align: top;\n",
       "    }\n",
       "\n",
       "    .dataframe thead th {\n",
       "        text-align: right;\n",
       "    }\n",
       "</style>\n",
       "<table border=\"1\" class=\"dataframe\">\n",
       "  <thead>\n",
       "    <tr style=\"text-align: right;\">\n",
       "      <th></th>\n",
       "      <th>sample</th>\n",
       "    </tr>\n",
       "  </thead>\n",
       "  <tbody>\n",
       "    <tr>\n",
       "      <th>0</th>\n",
       "      <td>anxy</td>\n",
       "    </tr>\n",
       "    <tr>\n",
       "      <th>1</th>\n",
       "      <td>anxy</td>\n",
       "    </tr>\n",
       "    <tr>\n",
       "      <th>2</th>\n",
       "      <td>anxy</td>\n",
       "    </tr>\n",
       "    <tr>\n",
       "      <th>3</th>\n",
       "      <td>anxy</td>\n",
       "    </tr>\n",
       "    <tr>\n",
       "      <th>4</th>\n",
       "      <td>anxyha</td>\n",
       "    </tr>\n",
       "  </tbody>\n",
       "</table>\n",
       "</div>"
      ],
      "text/plain": [
       "   sample\n",
       "0    anxy\n",
       "1    anxy\n",
       "2    anxy\n",
       "3    anxy\n",
       "4  anxyha"
      ]
     },
     "execution_count": 42,
     "metadata": {},
     "output_type": "execute_result"
    }
   ],
   "source": [
    "df[['sample']].head()"
   ]
  },
  {
   "cell_type": "code",
   "execution_count": 43,
   "metadata": {},
   "outputs": [
    {
     "data": {
      "text/html": [
       "<div>\n",
       "<style scoped>\n",
       "    .dataframe tbody tr th:only-of-type {\n",
       "        vertical-align: middle;\n",
       "    }\n",
       "\n",
       "    .dataframe tbody tr th {\n",
       "        vertical-align: top;\n",
       "    }\n",
       "\n",
       "    .dataframe thead th {\n",
       "        text-align: right;\n",
       "    }\n",
       "</style>\n",
       "<table border=\"1\" class=\"dataframe\">\n",
       "  <thead>\n",
       "    <tr style=\"text-align: right;\">\n",
       "      <th></th>\n",
       "      <th>principal component 1</th>\n",
       "      <th>principal component 2</th>\n",
       "      <th>sample</th>\n",
       "    </tr>\n",
       "  </thead>\n",
       "  <tbody>\n",
       "    <tr>\n",
       "      <th>0</th>\n",
       "      <td>-14.024459</td>\n",
       "      <td>-8.461937</td>\n",
       "      <td>anxy</td>\n",
       "    </tr>\n",
       "    <tr>\n",
       "      <th>1</th>\n",
       "      <td>-17.259015</td>\n",
       "      <td>-8.812380</td>\n",
       "      <td>anxy</td>\n",
       "    </tr>\n",
       "    <tr>\n",
       "      <th>2</th>\n",
       "      <td>-20.136166</td>\n",
       "      <td>-10.279133</td>\n",
       "      <td>anxy</td>\n",
       "    </tr>\n",
       "    <tr>\n",
       "      <th>3</th>\n",
       "      <td>-14.514629</td>\n",
       "      <td>-7.793178</td>\n",
       "      <td>anxy</td>\n",
       "    </tr>\n",
       "    <tr>\n",
       "      <th>4</th>\n",
       "      <td>17.843881</td>\n",
       "      <td>-5.398950</td>\n",
       "      <td>anxyha</td>\n",
       "    </tr>\n",
       "  </tbody>\n",
       "</table>\n",
       "</div>"
      ],
      "text/plain": [
       "   principal component 1  principal component 2  sample\n",
       "0             -14.024459              -8.461937    anxy\n",
       "1             -17.259015              -8.812380    anxy\n",
       "2             -20.136166             -10.279133    anxy\n",
       "3             -14.514629              -7.793178    anxy\n",
       "4              17.843881              -5.398950  anxyha"
      ]
     },
     "execution_count": 43,
     "metadata": {},
     "output_type": "execute_result"
    }
   ],
   "source": [
    "finalDf = pd.concat([principalDf, df[['sample']]], axis = 1)\n",
    "finalDf.head(5)"
   ]
  },
  {
   "cell_type": "code",
   "execution_count": 44,
   "metadata": {},
   "outputs": [
    {
     "data": {
      "text/plain": [
       "anxy       4\n",
       "greenha    4\n",
       "kuki       4\n",
       "kukiha     4\n",
       "zool       4\n",
       "zoolha     4\n",
       "anxyha     3\n",
       "green      3\n",
       "Name: sample, dtype: int64"
      ]
     },
     "execution_count": 44,
     "metadata": {},
     "output_type": "execute_result"
    }
   ],
   "source": [
    "df['sample'].value_counts()"
   ]
  },
  {
   "cell_type": "markdown",
   "metadata": {},
   "source": [
    "## Visualize 2D Projection"
   ]
  },
  {
   "cell_type": "markdown",
   "metadata": {},
   "source": [
    "Use a PCA projection to 2d to visualize the entire data set. You should plot different classes using different colors or shapes. Do the classes seem well-separated from each other? "
   ]
  },
  {
   "cell_type": "code",
   "execution_count": 49,
   "metadata": {},
   "outputs": [
    {
     "data": {
      "image/png": "[encoded data removed]",
      "text/plain": [
       "<Figure size 576x576 with 1 Axes>"
      ]
     },
     "metadata": {
      "needs_background": "light"
     },
     "output_type": "display_data"
    }
   ],
   "source": [
    "fig = plt.figure(figsize = (8,8))\n",
    "ax = fig.add_subplot(1,1,1) \n",
    "ax.set_xlabel('Principal Component 1', fontsize = 15)\n",
    "ax.set_ylabel('Principal Component 2', fontsize = 15)\n",
    "ax.set_title('2 Component PCA', fontsize = 20)\n",
    "\n",
    "\n",
    "targets = ['anxy', 'greenha', 'kuki','kukiha','zool','anxyha','green','zoolha']\n",
    "colors = ['red', 'green', 'blue','black','yellow','orange','pink','brown']\n",
    "for target, color in zip(targets,colors):\n",
    "    indicesToKeep = finalDf['sample'] == target\n",
    "    ax.scatter(finalDf.loc[indicesToKeep, 'principal component 1']\n",
    "               , finalDf.loc[indicesToKeep, 'principal component 2']\n",
    "               , c = color\n",
    "               , s = 50)\n",
    "ax.legend(targets)\n",
    "ax.grid()"
   ]
  },
  {
   "cell_type": "markdown",
   "metadata": {},
   "source": [
    "The three classes appear to be well separated! \n",
    "\n",
    "iris-virginica and iris-versicolor could be better separated, but still good!"
   ]
  },
  {
   "cell_type": "markdown",
   "metadata": {},
   "source": [
    "## Explained Variance"
   ]
  },
  {
   "cell_type": "markdown",
   "metadata": {},
   "source": [
    "The explained variance tells us how much information (variance) can be attributed to each of the principal components."
   ]
  },
  {
   "cell_type": "code",
   "execution_count": 50,
   "metadata": {},
   "outputs": [
    {
     "data": {
      "text/plain": [
       "array([0.13256662, 0.09373365])"
      ]
     },
     "execution_count": 50,
     "metadata": {},
     "output_type": "execute_result"
    }
   ],
   "source": [
    "pca.explained_variance_ratio_"
   ]
  },
  {
   "cell_type": "markdown",
   "metadata": {},
   "source": [
    "Together, the first two principal components contain 95.80% of the information. The first principal component contains 72.77% of the variance and the second principal component contains 23.03% of the variance. The third and fourth principal component contained the rest of the variance of the dataset. "
   ]
  },
  {
   "cell_type": "markdown",
   "metadata": {},
   "source": [
    "## What are other applications of PCA (other than visualizing data)?"
   ]
  },
  {
   "cell_type": "markdown",
   "metadata": {},
   "source": [
    "If your learning algorithm is too slow because the input dimension is too high, then using PCA to speed it up is a reasonable choice. (<b>most common application in my opinion</b>). We will see this in the MNIST dataset. "
   ]
  },
  {
   "cell_type": "markdown",
   "metadata": {},
   "source": [
    "If memory or disk space is limited, PCA allows you to save space in exchange for losing a little of the data's information. This can be a reasonable tradeoff."
   ]
  },
  {
   "cell_type": "markdown",
   "metadata": {},
   "source": [
    "## What are the limitations of PCA? "
   ]
  },
  {
   "cell_type": "markdown",
   "metadata": {},
   "source": [
    "- PCA is not scale invariant. check: we need to scale our data first. \n",
    "- The directions with largest variance are assumed to be of the most interest \n",
    "- Only considers orthogonal transformations (rotations) of the original variables \n",
    "- PCA is only based on the mean vector and covariance matrix. Some distributions (multivariate normal) are characterized by this, but some are not. \n",
    "- If the variables are correlated, PCA can achieve dimension reduction. If not, PCA just orders them according to their variances. "
   ]
  }
 ],
 "metadata": {
  "anaconda-cloud": {},
  "kernelspec": {
   "display_name": "Python 3 (ipykernel)",
   "language": "python",
   "name": "python3"
  },
  "language_info": {
   "codemirror_mode": {
    "name": "ipython",
    "version": 3
   },
   "file_extension": ".py",
   "mimetype": "text/x-python",
   "name": "python",
   "nbconvert_exporter": "python",
   "pygments_lexer": "ipython3",
   "version": "3.9.12"
  }
 },
 "nbformat": 4,
 "nbformat_minor": 1
}
